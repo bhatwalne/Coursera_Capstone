{
 "cells": [
  {
   "cell_type": "markdown",
   "metadata": {},
   "source": [
    "# Segmenting and Clustering Neighborhoods in Toronto (Part 2 and 3)\n",
    "## Week 3 Assignment of Applied Data Science Capstone\n",
    "### Task 2: Add the latitude and longitude coordinates to the dataframe and cluster the neighborhoods in Toronto"
   ]
  },
  {
   "cell_type": "markdown",
   "metadata": {},
   "source": [
    "Import Libraries"
   ]
  },
  {
   "cell_type": "code",
   "execution_count": 17,
   "metadata": {},
   "outputs": [],
   "source": [
    "import numpy as np\n",
    "import pandas as pd"
   ]
  },
  {
   "cell_type": "code",
   "execution_count": 18,
   "metadata": {},
   "outputs": [],
   "source": [
    "from bs4 import BeautifulSoup\n",
    "import requests\n",
    "\n",
    "website = r\"https://en.wikipedia.org/wiki/List_of_postal_codes_of_Canada:_M\"\n",
    "webdata  = requests.get(website)\n",
    "data = webdata.text\n",
    "soup = BeautifulSoup(data, \"lxml\")"
   ]
  },
  {
   "cell_type": "code",
   "execution_count": 19,
   "metadata": {},
   "outputs": [
    {
     "name": "stdout",
     "output_type": "stream",
     "text": [
      "['M1A', 'Not assigned', 'Not assigned\\n', 'M2A', 'Not assigned', 'Not assigned\\n', 'M3A', '<a href=\"/wiki/North_York\" title=\"North York\">North York</a>', '<a href=\"/wiki/Parkwoods\" title=\"Parkwoods\">Parkwoods</a>\\n', 'M4A']\n"
     ]
    }
   ],
   "source": [
    "temp_content = []\n",
    "table = soup.find(\"tbody\")\n",
    "for row in table.find_all(\"tr\"):\n",
    "    cells = row.find_all(\"td\")\n",
    "    for e in cells:\n",
    "        temp_content.append(str(e)[4:-5])\n",
    "print(temp_content[0:10])"
   ]
  },
  {
   "cell_type": "code",
   "execution_count": 20,
   "metadata": {},
   "outputs": [
    {
     "name": "stdout",
     "output_type": "stream",
     "text": [
      "['M1A', 'Not assigned', 'Not assigned', 'M2A', 'Not assigned', 'Not assigned', 'M3A', 'North York', 'Parkwoods', 'M4A']\n"
     ]
    }
   ],
   "source": [
    "import re\n",
    "\n",
    "content = []\n",
    "for u in temp_content:\n",
    "    c = u.strip()\n",
    "    if c[0] == \"<\":\n",
    "        c = re.search('title=\"(.*)\">', c).group(1)  \n",
    "    content.append(c) \n",
    "print(content[0:10])"
   ]
  },
  {
   "cell_type": "code",
   "execution_count": 21,
   "metadata": {},
   "outputs": [
    {
     "name": "stdout",
     "output_type": "stream",
     "text": [
      "  Postcode           Borough           Neighbourhood\n",
      "0      M3A        North York               Parkwoods\n",
      "1      M4A        North York        Victoria Village\n",
      "2      M5A  Downtown Toronto  Harbourfront (Toronto)\n",
      "3      M5A  Downtown Toronto             Regent Park\n",
      "4      M6A        North York        Lawrence Heights\n"
     ]
    }
   ],
   "source": [
    "data_dict = {\n",
    "    \"Postcode\":content[0::3],\n",
    "    \"Borough\":content[1::3],\n",
    "    \"Neighbourhood\":content[2::3]\n",
    "}\n",
    "df = pd.DataFrame(data_dict)\n",
    "df = df[df[\"Borough\"] != \"Not assigned\"].reset_index(drop=True)\n",
    "not_as_fil = df[\"Neighbourhood\"] == \"Not assigned\"\n",
    "df.loc[not_as_fil,[\"Neighbourhood\"]] = df.loc[not_as_fil][\"Borough\"]\n",
    "print(df.head())"
   ]
  },
  {
   "cell_type": "markdown",
   "metadata": {},
   "source": [
    "Assign postcode borough and neighbourhood into the list"
   ]
  },
  {
   "cell_type": "code",
   "execution_count": 26,
   "metadata": {},
   "outputs": [],
   "source": [
    "lat_long = pd.read_csv(\"https://cocl.us/Geospatial_data\", sep=\",\", header=0)"
   ]
  },
  {
   "cell_type": "markdown",
   "metadata": {},
   "source": [
    "Load latitude and longitude data"
   ]
  },
  {
   "cell_type": "code",
   "execution_count": 24,
   "metadata": {},
   "outputs": [
    {
     "name": "stdout",
     "output_type": "stream",
     "text": [
      "  PostalCode   Latitude  Longitude\n",
      "0        M1B  43.806686 -79.194353\n",
      "1        M1C  43.784535 -79.160497\n",
      "2        M1E  43.763573 -79.188711\n",
      "3        M1G  43.770992 -79.216917\n",
      "4        M1H  43.773136 -79.239476\n",
      "5        M1J  43.744734 -79.239476\n",
      "6        M1K  43.727929 -79.262029\n",
      "7        M1L  43.711112 -79.284577\n",
      "8        M1M  43.716316 -79.239476\n",
      "9        M1N  43.692657 -79.264848\n"
     ]
    }
   ],
   "source": [
    "lat_long.rename(columns={'Postal Code':'PostalCode'}, inplace=True)\n",
    "# print(lat_long.columns[0])\n",
    "print(lat_long.head(10))"
   ]
  },
  {
   "cell_type": "markdown",
   "metadata": {},
   "source": [
    "Associate Postal code to Lat and Long data"
   ]
  },
  {
   "cell_type": "code",
   "execution_count": 25,
   "metadata": {},
   "outputs": [
    {
     "name": "stdout",
     "output_type": "stream",
     "text": [
      "  Postcode                 Borough           Neighbourhood PostalCode   Latitude  Longitude\n",
      "0      M3A              North York               Parkwoods        M3A  43.753259 -79.329656\n",
      "1      M4A              North York        Victoria Village        M4A  43.725882 -79.315572\n",
      "2      M5A        Downtown Toronto  Harbourfront (Toronto)        M5A  43.654260 -79.360636\n",
      "3      M5A        Downtown Toronto             Regent Park        M5A  43.654260 -79.360636\n",
      "4      M6A              North York        Lawrence Heights        M6A  43.718518 -79.464763\n",
      "5      M6A              North York          Lawrence Manor        M6A  43.718518 -79.464763\n",
      "6      M7A  Queen's Park (Toronto)  Queen's Park (Toronto)        M7A  43.662301 -79.389494\n",
      "7      M9A               Etobicoke        Islington Avenue        M9A  43.667856 -79.532242\n",
      "8      M1B    Scarborough, Toronto          Rouge, Toronto        M1B  43.806686 -79.194353\n",
      "9      M1B    Scarborough, Toronto        Malvern, Toronto        M1B  43.806686 -79.194353\n"
     ]
    }
   ],
   "source": [
    "final = df.merge(lat_long, how=\"inner\", left_on='Postcode', right_on='PostalCode')\n",
    "print(final[0:10].to_string())"
   ]
  },
  {
   "cell_type": "markdown",
   "metadata": {},
   "source": [
    "Merge to full data"
   ]
  },
  {
   "cell_type": "code",
   "execution_count": 27,
   "metadata": {},
   "outputs": [
    {
     "name": "stdout",
     "output_type": "stream",
     "text": [
      "                         Borough          Neighbourhood PostalCode      Latitude             Longitude\n",
      "Postcode                                                                                              \n",
      "M1H       [Scarborough, Toronto]            [Cedarbrae]      [M1H]   [43.773136]  [-79.23947609999999]\n",
      "M1J       [Scarborough, Toronto]  [Scarborough Village]      [M1J]  [43.7447342]  [-79.23947609999999]\n"
     ]
    }
   ],
   "source": [
    "pst = final.groupby(\"Postcode\")\n",
    "df_agg = pst.aggregate(lambda x: list(set(x)))\n",
    "print(df_agg[4:6].to_string())"
   ]
  },
  {
   "cell_type": "markdown",
   "metadata": {},
   "source": [
    "Group data"
   ]
  },
  {
   "cell_type": "code",
   "execution_count": 28,
   "metadata": {},
   "outputs": [
    {
     "name": "stdout",
     "output_type": "stream",
     "text": [
      "<class 'pandas.core.frame.DataFrame'>\n",
      "Index: 103 entries, M1B to M9W\n",
      "Data columns (total 5 columns):\n",
      "Borough          103 non-null object\n",
      "Neighbourhood    103 non-null object\n",
      "PostalCode       103 non-null object\n",
      "Latitude         103 non-null object\n",
      "Longitude        103 non-null object\n",
      "dtypes: object(5)\n",
      "memory usage: 4.8+ KB\n"
     ]
    }
   ],
   "source": [
    "df_agg.info()"
   ]
  },
  {
   "cell_type": "code",
   "execution_count": null,
   "metadata": {},
   "outputs": [],
   "source": []
  }
 ],
 "metadata": {
  "kernelspec": {
   "display_name": "Python 3",
   "language": "python",
   "name": "python3"
  },
  "language_info": {
   "codemirror_mode": {
    "name": "ipython",
    "version": 3
   },
   "file_extension": ".py",
   "mimetype": "text/x-python",
   "name": "python",
   "nbconvert_exporter": "python",
   "pygments_lexer": "ipython3",
   "version": "3.7.1"
  }
 },
 "nbformat": 4,
 "nbformat_minor": 2
}
